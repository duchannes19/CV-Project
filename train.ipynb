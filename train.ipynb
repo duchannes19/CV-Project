{
 "cells": [
  {
   "cell_type": "code",
   "execution_count": 3,
   "metadata": {},
   "outputs": [],
   "source": [
    "# Basic libraries\n",
    "import numpy as np\n",
    "import pandas as pd\n",
    "import os\n",
    "\n",
    "# Image processing\n",
    "import cv2\n",
    "from keras.preprocessing.image import ImageDataGenerator\n",
    "\n",
    "# Model building\n",
    "import tensorflow as tf\n",
    "from tensorflow.keras.models import Sequential\n",
    "from tensorflow.keras.layers import Dense, Conv2D, MaxPooling2D, Flatten, Dropout, BatchNormalization\n",
    "from tensorflow.keras.optimizers import Adam\n",
    "from tensorflow.keras.callbacks import EarlyStopping, ModelCheckpoint\n",
    "\n",
    "from sklearn.model_selection import train_test_split\n",
    "from sklearn.metrics import classification_report, accuracy_score"
   ]
  },
  {
   "cell_type": "code",
   "execution_count": 4,
   "metadata": {},
   "outputs": [
    {
     "name": "stdout",
     "output_type": "stream",
     "text": [
      "Memory growth set for GPUs.\n"
     ]
    }
   ],
   "source": [
    "gpus = tf.config.list_physical_devices('GPU')\n",
    "if gpus:\n",
    "    try:\n",
    "        for gpu in gpus:\n",
    "            tf.config.experimental.set_memory_growth(gpu, True)\n",
    "        print(\"Memory growth set for GPUs.\")\n",
    "    except RuntimeError as e:\n",
    "        print(e)\n",
    "else:\n",
    "    print(\"No GPUs detected.\")"
   ]
  },
  {
   "cell_type": "code",
   "execution_count": 5,
   "metadata": {},
   "outputs": [
    {
     "data": {
      "text/html": [
       "<div>\n",
       "<style scoped>\n",
       "    .dataframe tbody tr th:only-of-type {\n",
       "        vertical-align: middle;\n",
       "    }\n",
       "\n",
       "    .dataframe tbody tr th {\n",
       "        vertical-align: top;\n",
       "    }\n",
       "\n",
       "    .dataframe thead th {\n",
       "        text-align: right;\n",
       "    }\n",
       "</style>\n",
       "<table border=\"1\" class=\"dataframe\">\n",
       "  <thead>\n",
       "    <tr style=\"text-align: right;\">\n",
       "      <th></th>\n",
       "      <th>emotion</th>\n",
       "      <th>pixels</th>\n",
       "      <th>Usage</th>\n",
       "    </tr>\n",
       "  </thead>\n",
       "  <tbody>\n",
       "    <tr>\n",
       "      <th>0</th>\n",
       "      <td>0</td>\n",
       "      <td>70 80 82 72 58 58 60 63 54 58 60 48 89 115 121...</td>\n",
       "      <td>Training</td>\n",
       "    </tr>\n",
       "    <tr>\n",
       "      <th>1</th>\n",
       "      <td>0</td>\n",
       "      <td>151 150 147 155 148 133 111 140 170 174 182 15...</td>\n",
       "      <td>Training</td>\n",
       "    </tr>\n",
       "    <tr>\n",
       "      <th>2</th>\n",
       "      <td>2</td>\n",
       "      <td>231 212 156 164 174 138 161 173 182 200 106 38...</td>\n",
       "      <td>Training</td>\n",
       "    </tr>\n",
       "    <tr>\n",
       "      <th>3</th>\n",
       "      <td>4</td>\n",
       "      <td>24 32 36 30 32 23 19 20 30 41 21 22 32 34 21 1...</td>\n",
       "      <td>Training</td>\n",
       "    </tr>\n",
       "    <tr>\n",
       "      <th>4</th>\n",
       "      <td>6</td>\n",
       "      <td>4 0 0 0 0 0 0 0 0 0 0 0 3 15 23 28 48 50 58 84...</td>\n",
       "      <td>Training</td>\n",
       "    </tr>\n",
       "  </tbody>\n",
       "</table>\n",
       "</div>"
      ],
      "text/plain": [
       "   emotion                                             pixels     Usage\n",
       "0        0  70 80 82 72 58 58 60 63 54 58 60 48 89 115 121...  Training\n",
       "1        0  151 150 147 155 148 133 111 140 170 174 182 15...  Training\n",
       "2        2  231 212 156 164 174 138 161 173 182 200 106 38...  Training\n",
       "3        4  24 32 36 30 32 23 19 20 30 41 21 22 32 34 21 1...  Training\n",
       "4        6  4 0 0 0 0 0 0 0 0 0 0 0 3 15 23 28 48 50 58 84...  Training"
      ]
     },
     "execution_count": 5,
     "metadata": {},
     "output_type": "execute_result"
    }
   ],
   "source": [
    "# Path to the CSV file\n",
    "data_path = \"dataset/fer2013/fer2013/fer2013.csv\"  # Update this path to your CSV file\n",
    "\n",
    "# Load the dataset\n",
    "df = pd.read_csv(data_path)\n",
    "\n",
    "# Inspect the first few rows\n",
    "df.head()"
   ]
  },
  {
   "cell_type": "code",
   "execution_count": 6,
   "metadata": {},
   "outputs": [
    {
     "name": "stdout",
     "output_type": "stream",
     "text": [
      "Image data shape: (35887, 48, 48, 1)\n",
      "Label data shape: (35887,)\n"
     ]
    }
   ],
   "source": [
    "# Convert pixel values from string to numpy array\n",
    "def preprocess_images(df):\n",
    "    images = []\n",
    "    for pixel_sequence in df[\"pixels\"]:\n",
    "        img_array = np.array(pixel_sequence.split(), dtype=\"float32\")\n",
    "        img_array = img_array.reshape(48, 48, 1)  # Reshape to 48x48 and single channel\n",
    "        img_array = img_array / 255.0  # Normalize pixel values to [0, 1]\n",
    "        images.append(img_array)\n",
    "    return np.array(images)\n",
    "\n",
    "# Preprocess images and extract labels\n",
    "X = preprocess_images(df)\n",
    "y = df[\"emotion\"].values  # Emotion labels\n",
    "\n",
    "# Check the shape of images and labels\n",
    "print(\"Image data shape:\", X.shape)  # Should be (num_samples, 48, 48, 1)\n",
    "print(\"Label data shape:\", y.shape)  # Should be (num_samples,)"
   ]
  },
  {
   "cell_type": "code",
   "execution_count": 7,
   "metadata": {},
   "outputs": [
    {
     "name": "stdout",
     "output_type": "stream",
     "text": [
      "Training set shape: (25120, 48, 48, 1)\n",
      "Validation set shape: (5383, 48, 48, 1)\n",
      "Test set shape: (5384, 48, 48, 1)\n"
     ]
    }
   ],
   "source": [
    "# Split into training, validation, and test sets\n",
    "X_train, X_temp, y_train, y_temp = train_test_split(X, y, test_size=0.3, random_state=42, stratify=y)\n",
    "X_val, X_test, y_val, y_test = train_test_split(X_temp, y_temp, test_size=0.5, random_state=42, stratify=y_temp)\n",
    "\n",
    "print(\"Training set shape:\", X_train.shape)\n",
    "print(\"Validation set shape:\", X_val.shape)\n",
    "print(\"Test set shape:\", X_test.shape)"
   ]
  },
  {
   "cell_type": "code",
   "execution_count": 8,
   "metadata": {},
   "outputs": [
    {
     "name": "stdout",
     "output_type": "stream",
     "text": [
      "Data augmentation setup complete.\n"
     ]
    }
   ],
   "source": [
    "# Define data augmentation parameters\n",
    "datagen = ImageDataGenerator(\n",
    "    rotation_range=15,            # Rotate images by up to 15 degrees\n",
    "    width_shift_range=0.1,        # Shift images horizontally by up to 10% of the width\n",
    "    height_shift_range=0.1,       # Shift images vertically by up to 10% of the height\n",
    "    shear_range=0.1,              # Shear intensity (shear angle in degrees)\n",
    "    zoom_range=0.1,               # Zoom in/out by up to 10%\n",
    "    horizontal_flip=True,         # Randomly flip images horizontally\n",
    "    fill_mode='nearest'           # Fill in new pixels with the nearest value\n",
    ")\n",
    "\n",
    "# Fit the generator to the training data\n",
    "datagen.fit(X_train)\n",
    "\n",
    "print(\"Data augmentation setup complete.\")\n"
   ]
  },
  {
   "cell_type": "code",
   "execution_count": 9,
   "metadata": {},
   "outputs": [
    {
     "name": "stdout",
     "output_type": "stream",
     "text": [
      "Model: \"sequential\"\n",
      "_________________________________________________________________\n",
      " Layer (type)                Output Shape              Param #   \n",
      "=================================================================\n",
      " conv2d (Conv2D)             (None, 46, 46, 32)        320       \n",
      "                                                                 \n",
      " max_pooling2d (MaxPooling2D  (None, 23, 23, 32)       0         \n",
      " )                                                               \n",
      "                                                                 \n",
      " dropout (Dropout)           (None, 23, 23, 32)        0         \n",
      "                                                                 \n",
      " conv2d_1 (Conv2D)           (None, 21, 21, 64)        18496     \n",
      "                                                                 \n",
      " max_pooling2d_1 (MaxPooling  (None, 10, 10, 64)       0         \n",
      " 2D)                                                             \n",
      "                                                                 \n",
      " dropout_1 (Dropout)         (None, 10, 10, 64)        0         \n",
      "                                                                 \n",
      " conv2d_2 (Conv2D)           (None, 8, 8, 128)         73856     \n",
      "                                                                 \n",
      " max_pooling2d_2 (MaxPooling  (None, 4, 4, 128)        0         \n",
      " 2D)                                                             \n",
      "                                                                 \n",
      " dropout_2 (Dropout)         (None, 4, 4, 128)         0         \n",
      "                                                                 \n",
      " flatten (Flatten)           (None, 2048)              0         \n",
      "                                                                 \n",
      " dense (Dense)               (None, 256)               524544    \n",
      "                                                                 \n",
      " dropout_3 (Dropout)         (None, 256)               0         \n",
      "                                                                 \n",
      " dense_1 (Dense)             (None, 7)                 1799      \n",
      "                                                                 \n",
      "=================================================================\n",
      "Total params: 619,015\n",
      "Trainable params: 619,015\n",
      "Non-trainable params: 0\n",
      "_________________________________________________________________\n"
     ]
    }
   ],
   "source": [
    "# Define CNN model\n",
    "model = Sequential([\n",
    "    Conv2D(32, (3, 3), activation=\"relu\", input_shape=(48, 48, 1)),\n",
    "    MaxPooling2D((2, 2)),\n",
    "    Dropout(0.25),\n",
    "\n",
    "    Conv2D(64, (3, 3), activation=\"relu\"),\n",
    "    MaxPooling2D((2, 2)),\n",
    "    Dropout(0.25),\n",
    "\n",
    "    Conv2D(128, (3, 3), activation=\"relu\"),\n",
    "    MaxPooling2D((2, 2)),\n",
    "    Dropout(0.25),\n",
    "\n",
    "    Flatten(),\n",
    "    Dense(256, activation=\"relu\"),\n",
    "    Dropout(0.5),\n",
    "    Dense(7, activation=\"softmax\")  # 7 output classes for each emotion\n",
    "])\n",
    "\n",
    "# Compile the model\n",
    "model.compile(\n",
    "    optimizer=Adam(learning_rate=0.001),\n",
    "    loss=\"sparse_categorical_crossentropy\",\n",
    "    metrics=[\"accuracy\"]\n",
    ")\n",
    "\n",
    "model.summary()"
   ]
  },
  {
   "cell_type": "code",
   "execution_count": 10,
   "metadata": {},
   "outputs": [
    {
     "name": "stdout",
     "output_type": "stream",
     "text": [
      "Epoch 1/30\n",
      "785/785 [==============================] - 10s 5ms/step - loss: 1.7604 - accuracy: 0.2798 - val_loss: 1.5995 - val_accuracy: 0.3767\n",
      "Epoch 2/30\n",
      "785/785 [==============================] - 4s 5ms/step - loss: 1.5439 - accuracy: 0.4013 - val_loss: 1.3938 - val_accuracy: 0.4657\n",
      "Epoch 3/30\n",
      "785/785 [==============================] - 4s 5ms/step - loss: 1.4190 - accuracy: 0.4522 - val_loss: 1.2872 - val_accuracy: 0.5116\n",
      "Epoch 4/30\n",
      "785/785 [==============================] - 4s 5ms/step - loss: 1.3542 - accuracy: 0.4807 - val_loss: 1.2693 - val_accuracy: 0.5103\n",
      "Epoch 5/30\n",
      "785/785 [==============================] - 4s 5ms/step - loss: 1.3049 - accuracy: 0.5039 - val_loss: 1.2193 - val_accuracy: 0.5358\n",
      "Epoch 6/30\n",
      "785/785 [==============================] - 4s 5ms/step - loss: 1.2712 - accuracy: 0.5119 - val_loss: 1.1906 - val_accuracy: 0.5417\n",
      "Epoch 7/30\n",
      "785/785 [==============================] - 4s 5ms/step - loss: 1.2409 - accuracy: 0.5276 - val_loss: 1.1723 - val_accuracy: 0.5510\n",
      "Epoch 8/30\n",
      "785/785 [==============================] - 4s 5ms/step - loss: 1.2125 - accuracy: 0.5388 - val_loss: 1.1814 - val_accuracy: 0.5504\n",
      "Epoch 9/30\n",
      "785/785 [==============================] - 4s 5ms/step - loss: 1.1938 - accuracy: 0.5448 - val_loss: 1.1733 - val_accuracy: 0.5543\n",
      "Epoch 10/30\n",
      "785/785 [==============================] - 4s 5ms/step - loss: 1.1684 - accuracy: 0.5543 - val_loss: 1.1417 - val_accuracy: 0.5681\n",
      "Epoch 11/30\n",
      "785/785 [==============================] - 4s 5ms/step - loss: 1.1565 - accuracy: 0.5578 - val_loss: 1.1404 - val_accuracy: 0.5722\n",
      "Epoch 12/30\n",
      "785/785 [==============================] - 4s 5ms/step - loss: 1.1302 - accuracy: 0.5763 - val_loss: 1.1276 - val_accuracy: 0.5701\n",
      "Epoch 13/30\n",
      "785/785 [==============================] - 4s 5ms/step - loss: 1.1210 - accuracy: 0.5750 - val_loss: 1.1256 - val_accuracy: 0.5738\n",
      "Epoch 14/30\n",
      "785/785 [==============================] - 4s 5ms/step - loss: 1.1080 - accuracy: 0.5798 - val_loss: 1.1158 - val_accuracy: 0.5785\n",
      "Epoch 15/30\n",
      "785/785 [==============================] - 4s 5ms/step - loss: 1.0875 - accuracy: 0.5878 - val_loss: 1.1267 - val_accuracy: 0.5802\n",
      "Epoch 16/30\n",
      "785/785 [==============================] - 4s 5ms/step - loss: 1.0818 - accuracy: 0.5941 - val_loss: 1.1037 - val_accuracy: 0.5883\n",
      "Epoch 17/30\n",
      "785/785 [==============================] - 4s 4ms/step - loss: 1.0639 - accuracy: 0.5963 - val_loss: 1.1150 - val_accuracy: 0.5772\n",
      "Epoch 18/30\n",
      "785/785 [==============================] - 4s 5ms/step - loss: 1.0569 - accuracy: 0.5975 - val_loss: 1.1142 - val_accuracy: 0.5787\n",
      "Epoch 19/30\n",
      "785/785 [==============================] - 4s 5ms/step - loss: 1.0423 - accuracy: 0.6032 - val_loss: 1.1061 - val_accuracy: 0.5874\n",
      "Epoch 20/30\n",
      "785/785 [==============================] - 4s 5ms/step - loss: 1.0319 - accuracy: 0.6098 - val_loss: 1.0936 - val_accuracy: 0.5881\n",
      "Epoch 21/30\n",
      "785/785 [==============================] - 4s 5ms/step - loss: 1.0084 - accuracy: 0.6159 - val_loss: 1.1179 - val_accuracy: 0.5820\n",
      "Epoch 22/30\n",
      "785/785 [==============================] - 4s 5ms/step - loss: 1.0141 - accuracy: 0.6210 - val_loss: 1.0869 - val_accuracy: 0.5913\n",
      "Epoch 23/30\n",
      "785/785 [==============================] - 4s 5ms/step - loss: 0.9978 - accuracy: 0.6262 - val_loss: 1.0985 - val_accuracy: 0.5889\n",
      "Epoch 24/30\n",
      "785/785 [==============================] - 4s 5ms/step - loss: 0.9930 - accuracy: 0.6271 - val_loss: 1.0991 - val_accuracy: 0.5898\n",
      "Epoch 25/30\n",
      "785/785 [==============================] - 4s 5ms/step - loss: 0.9806 - accuracy: 0.6292 - val_loss: 1.0945 - val_accuracy: 0.5982\n",
      "Epoch 26/30\n",
      "785/785 [==============================] - 4s 5ms/step - loss: 0.9715 - accuracy: 0.6359 - val_loss: 1.1053 - val_accuracy: 0.5920\n",
      "Epoch 27/30\n",
      "785/785 [==============================] - 4s 5ms/step - loss: 0.9742 - accuracy: 0.6353 - val_loss: 1.0986 - val_accuracy: 0.5889\n"
     ]
    }
   ],
   "source": [
    "# Define callbacks\n",
    "early_stopping = EarlyStopping(monitor=\"val_loss\", patience=5, restore_best_weights=True)\n",
    "model_checkpoint = ModelCheckpoint(\"model/emotions.keras\", save_best_only=True)\n",
    "\n",
    "# Train the model\n",
    "history = model.fit(\n",
    "    X_train, y_train,\n",
    "    validation_data=(X_val, y_val),\n",
    "    epochs=30,\n",
    "    batch_size=32,\n",
    "    callbacks=[early_stopping, model_checkpoint]\n",
    ")"
   ]
  },
  {
   "cell_type": "code",
   "execution_count": 11,
   "metadata": {},
   "outputs": [
    {
     "name": "stdout",
     "output_type": "stream",
     "text": [
      "169/169 [==============================] - 1s 4ms/step - loss: 1.0869 - accuracy: 0.5913\n",
      "Validation Loss: 1.0869266986846924\n",
      "Validation Accuracy: 0.5913059711456299\n",
      "169/169 [==============================] - 0s 2ms/step\n",
      "              precision    recall  f1-score   support\n",
      "\n",
      "           0       0.49      0.52      0.50       743\n",
      "           1       0.78      0.26      0.39        82\n",
      "           2       0.54      0.25      0.34       768\n",
      "           3       0.78      0.82      0.80      1348\n",
      "           4       0.45      0.56      0.50       911\n",
      "           5       0.76      0.72      0.74       601\n",
      "           6       0.50      0.58      0.54       930\n",
      "\n",
      "    accuracy                           0.59      5383\n",
      "   macro avg       0.61      0.53      0.54      5383\n",
      "weighted avg       0.60      0.59      0.58      5383\n",
      "\n"
     ]
    }
   ],
   "source": [
    "# Evaluate model\n",
    "val_loss, val_accuracy = model.evaluate(X_val, y_val)\n",
    "print(f\"Validation Loss: {val_loss}\")\n",
    "print(f\"Validation Accuracy: {val_accuracy}\")\n",
    "\n",
    "# Generate classification report\n",
    "y_pred = np.argmax(model.predict(X_val), axis=1)\n",
    "print(classification_report(y_val, y_pred))"
   ]
  },
  {
   "cell_type": "code",
   "execution_count": 13,
   "metadata": {},
   "outputs": [
    {
     "name": "stdout",
     "output_type": "stream",
     "text": [
      "Model saved successfully.\n"
     ]
    }
   ],
   "source": [
    "try:\n",
    "    model.save(\"model/mystery.h5\")\n",
    "    print(\"Model saved successfully.\")\n",
    "except Exception as e:\n",
    "    print(f\"Error saving model: {e}\")"
   ]
  }
 ],
 "metadata": {
  "kernelspec": {
   "display_name": "cv",
   "language": "python",
   "name": "python3"
  },
  "language_info": {
   "codemirror_mode": {
    "name": "ipython",
    "version": 3
   },
   "file_extension": ".py",
   "mimetype": "text/x-python",
   "name": "python",
   "nbconvert_exporter": "python",
   "pygments_lexer": "ipython3",
   "version": "3.9.20"
  }
 },
 "nbformat": 4,
 "nbformat_minor": 2
}
