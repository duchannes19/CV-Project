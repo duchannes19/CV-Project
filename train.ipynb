{
 "cells": [
  {
   "cell_type": "code",
   "execution_count": null,
   "metadata": {},
   "outputs": [],
   "source": [
    "# Basic libraries\n",
    "import numpy as np\n",
    "import pandas as pd\n",
    "import os\n",
    "\n",
    "# Image processing\n",
    "import cv2\n",
    "from keras.api import *\n",
    "from keras.api.preprocessing import image\n",
    "from keras.api.preprocessing import image_dataset_from_directory \n",
    "\n",
    "# Model building\n",
    "import tensorflow as tf\n",
    "from keras.api.models import Sequential\n",
    "from keras.api.layers import Dense, Conv2D, MaxPooling2D, Dropout, Flatten\n",
    "from keras.api.optimizers import Adam\n",
    "from keras.api.callbacks import EarlyStopping, ModelCheckpoint\n",
    "from sklearn.model_selection import train_test_split\n",
    "from sklearn.metrics import classification_report, accuracy_score"
   ]
  }
 ],
 "metadata": {
  "kernelspec": {
   "display_name": "cv",
   "language": "python",
   "name": "python3"
  },
  "language_info": {
   "name": "python",
   "version": "3.11.10"
  }
 },
 "nbformat": 4,
 "nbformat_minor": 2
}
