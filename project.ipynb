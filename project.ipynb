{
 "cells": [
  {
   "cell_type": "code",
   "execution_count": 1,
   "metadata": {},
   "outputs": [],
   "source": [
    "#Import the libraries\n",
    "\n",
    "import cv2\n",
    "#import os\n",
    "from matplotlib import pyplot as plt\n",
    "import numpy as np\n",
    "from skimage import feature as ft\n",
    "from sklearn import svm\n",
    "from sklearn.model_selection import train_test_split"
   ]
  },
  {
   "cell_type": "code",
   "execution_count": 44,
   "metadata": {},
   "outputs": [],
   "source": [
    "\n",
    "photos_folder_path = 'photos'\n",
    "photos = []  # Initialize the photos list\n",
    "\n",
    "def load_photos():\n",
    "    # Load the photos using a while inside the photos folder for each of the images inside the folder\n",
    "    i = 1\n",
    "    while True:\n",
    "        # Load the image\n",
    "        path = 'photos' + '/' + str(i) + '.jpg'\n",
    "        img = cv2.imread(path)\n",
    "        # If the image is not loaded, break the loop\n",
    "        if img is None:\n",
    "            break\n",
    "        \n",
    "        # Resize the image while maintaining aspect ratio\n",
    "        height, width, _ = img.shape\n",
    "        max_dim = max(height, width)\n",
    "        scale = 300 / max_dim\n",
    "        new_height = int(height * scale)\n",
    "        new_width = int(width * scale)\n",
    "        img = cv2.resize(img, (new_width, new_height))\n",
    "        # Convert the image to grayscale\n",
    "        #img = cv2.cvtColor(img, cv2.COLOR_BGR2GRAY)\n",
    "        # Append the image to the list\n",
    "        i += 1\n",
    "        photos.append(img)\n",
    "\n",
    "load_photos()"
   ]
  },
  {
   "cell_type": "code",
   "execution_count": 9,
   "metadata": {},
   "outputs": [],
   "source": [
    "# Shows the firt three images\n",
    "#Comment bottom 3 lines to see all images\n",
    "#for i in range(3):\n",
    "#    cv2.imshow('image', photos[i])\n",
    "#    cv2.waitKey(0)\n",
    "#    cv2.destroyAllWindows()"
   ]
  },
  {
   "cell_type": "code",
   "execution_count": 45,
   "metadata": {},
   "outputs": [],
   "source": [
    "def segment_teeth(image):\n",
    "    # Convert to grayscale\n",
    "    gray = cv2.cvtColor(image, cv2.COLOR_BGR2GRAY)\n",
    "    \n",
    "    # Filter the image using a median filter to remove salt and pepper noise\n",
    "    gray = cv2.GaussianBlur(gray, (5, 5), 0)\n",
    "    \n",
    "    # Use blob detection to find the center of the teeth\n",
    "    # Set up the detector with custom parameters.\n",
    "    params = cv2.SimpleBlobDetector_Params()\n",
    "    params.filterByArea = True\n",
    "    \n",
    "    params.minArea = 15  # Adjust this value to control the minimum size of the blobs\n",
    "    params.maxArea = 100  # Adjust this value to control the maximum size of the blobs\n",
    "    detector = cv2.SimpleBlobDetector_create(params)\n",
    "    \n",
    "    # Detect blobs.\n",
    "    keypoints = detector.detect(gray)\n",
    "    \n",
    "    # Draw detected blobs as red circles.\n",
    "    image_with_keypoints = cv2.drawKeypoints(image, keypoints, np.array([]), (0, 0, 255), cv2.DRAW_MATCHES_FLAGS_DRAW_RICH_KEYPOINTS)\n",
    "    \n",
    "    # Show keypoints\n",
    "    cv2.imshow(\"Keypoints\", image_with_keypoints)\n",
    "    cv2.waitKey(0)\n",
    "    \n",
    "    \n"
   ]
  },
  {
   "cell_type": "code",
   "execution_count": 43,
   "metadata": {},
   "outputs": [],
   "source": [
    "#Apply canny edge detection to detect the edges of the images\n",
    "def canny_edge_detection(img):\n",
    "    return cv2.Canny(img, 100, 200)\n",
    "\n",
    "segment_teeth(photos[1])\n",
    "\n",
    "\n",
    "#plt.subplot(121),plt.imshow(photos[0],cmap = 'gray')\n",
    "#plt.title('Original Image'), plt.xticks([]), plt.yticks([])\n",
    "#plt.subplot(122),plt.imshow(edges,cmap = 'gray')\n",
    "#plt.title('Edge Image'), plt.xticks([]), plt.yticks([])\n",
    "\n"
   ]
  }
 ],
 "metadata": {
  "kernelspec": {
   "display_name": "base",
   "language": "python",
   "name": "python3"
  },
  "language_info": {
   "codemirror_mode": {
    "name": "ipython",
    "version": 3
   },
   "file_extension": ".py",
   "mimetype": "text/x-python",
   "name": "python",
   "nbconvert_exporter": "python",
   "pygments_lexer": "ipython3",
   "version": "3.11.5"
  }
 },
 "nbformat": 4,
 "nbformat_minor": 2
}
